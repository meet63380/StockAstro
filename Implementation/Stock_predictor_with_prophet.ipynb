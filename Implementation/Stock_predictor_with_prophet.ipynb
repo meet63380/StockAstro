{
  "nbformat": 4,
  "nbformat_minor": 0,
  "metadata": {
    "colab": {
      "name": "Stock predictor with prophet.ipynb",
      "provenance": [],
      "collapsed_sections": []
    },
    "kernelspec": {
      "name": "python3",
      "display_name": "Python 3"
    },
    "language_info": {
      "name": "python"
    }
  },
  "cells": [
    {
      "cell_type": "code",
      "metadata": {
        "id": "UIBWwziFKNPe"
      },
      "source": [
        "import pandas as pd\n",
        "import yfinance as yf\n",
        "from yahoofinancials import YahooFinancials"
      ],
      "execution_count": 4,
      "outputs": []
    },
    {
      "cell_type": "code",
      "metadata": {
        "id": "nbD3j6X1TDjW"
      },
      "source": [
        "# Following https://medium.com/analytics-vidhya/predicting-stock-prices-using-facebooks-prophet-model-b1716c733ea6"
      ],
      "execution_count": null,
      "outputs": []
    },
    {
      "cell_type": "code",
      "metadata": {
        "colab": {
          "base_uri": "https://localhost:8080/"
        },
        "id": "LzDMqmmjKaCR",
        "outputId": "5819a76f-fa07-4809-8837-20470ab9f9e8"
      },
      "source": [
        "!pip install yfinance"
      ],
      "execution_count": 2,
      "outputs": [
        {
          "output_type": "stream",
          "text": [
            "Collecting yfinance\n",
            "  Downloading yfinance-0.1.63.tar.gz (26 kB)\n",
            "Requirement already satisfied: pandas>=0.24 in /usr/local/lib/python3.7/dist-packages (from yfinance) (1.1.5)\n",
            "Requirement already satisfied: numpy>=1.15 in /usr/local/lib/python3.7/dist-packages (from yfinance) (1.19.5)\n",
            "Requirement already satisfied: requests>=2.20 in /usr/local/lib/python3.7/dist-packages (from yfinance) (2.23.0)\n",
            "Requirement already satisfied: multitasking>=0.0.7 in /usr/local/lib/python3.7/dist-packages (from yfinance) (0.0.9)\n",
            "Collecting lxml>=4.5.1\n",
            "  Downloading lxml-4.6.3-cp37-cp37m-manylinux2014_x86_64.whl (6.3 MB)\n",
            "\u001b[K     |████████████████████████████████| 6.3 MB 30.2 MB/s \n",
            "\u001b[?25hRequirement already satisfied: python-dateutil>=2.7.3 in /usr/local/lib/python3.7/dist-packages (from pandas>=0.24->yfinance) (2.8.1)\n",
            "Requirement already satisfied: pytz>=2017.2 in /usr/local/lib/python3.7/dist-packages (from pandas>=0.24->yfinance) (2018.9)\n",
            "Requirement already satisfied: six>=1.5 in /usr/local/lib/python3.7/dist-packages (from python-dateutil>=2.7.3->pandas>=0.24->yfinance) (1.15.0)\n",
            "Requirement already satisfied: urllib3!=1.25.0,!=1.25.1,<1.26,>=1.21.1 in /usr/local/lib/python3.7/dist-packages (from requests>=2.20->yfinance) (1.24.3)\n",
            "Requirement already satisfied: certifi>=2017.4.17 in /usr/local/lib/python3.7/dist-packages (from requests>=2.20->yfinance) (2021.5.30)\n",
            "Requirement already satisfied: chardet<4,>=3.0.2 in /usr/local/lib/python3.7/dist-packages (from requests>=2.20->yfinance) (3.0.4)\n",
            "Requirement already satisfied: idna<3,>=2.5 in /usr/local/lib/python3.7/dist-packages (from requests>=2.20->yfinance) (2.10)\n",
            "Building wheels for collected packages: yfinance\n",
            "  Building wheel for yfinance (setup.py) ... \u001b[?25l\u001b[?25hdone\n",
            "  Created wheel for yfinance: filename=yfinance-0.1.63-py2.py3-none-any.whl size=23919 sha256=53c61bbd77c0da3a32ddf8096d9d18cd1a8988462e5b11315c8748801c7d2912\n",
            "  Stored in directory: /root/.cache/pip/wheels/fe/87/8b/7ec24486e001d3926537f5f7801f57a74d181be25b11157983\n",
            "Successfully built yfinance\n",
            "Installing collected packages: lxml, yfinance\n",
            "  Attempting uninstall: lxml\n",
            "    Found existing installation: lxml 4.2.6\n",
            "    Uninstalling lxml-4.2.6:\n",
            "      Successfully uninstalled lxml-4.2.6\n",
            "Successfully installed lxml-4.6.3 yfinance-0.1.63\n"
          ],
          "name": "stdout"
        }
      ]
    },
    {
      "cell_type": "code",
      "metadata": {
        "colab": {
          "base_uri": "https://localhost:8080/"
        },
        "id": "kKfOiRA4KfOG",
        "outputId": "08e4d4ba-68b3-4372-a599-99ff151e9a9c"
      },
      "source": [
        "!pip install yahoofinancials"
      ],
      "execution_count": 3,
      "outputs": [
        {
          "output_type": "stream",
          "text": [
            "Collecting yahoofinancials\n",
            "  Downloading yahoofinancials-1.6.tar.gz (27 kB)\n",
            "Requirement already satisfied: beautifulsoup4 in /usr/local/lib/python3.7/dist-packages (from yahoofinancials) (4.6.3)\n",
            "Requirement already satisfied: pytz in /usr/local/lib/python3.7/dist-packages (from yahoofinancials) (2018.9)\n",
            "Building wheels for collected packages: yahoofinancials\n",
            "  Building wheel for yahoofinancials (setup.py) ... \u001b[?25l\u001b[?25hdone\n",
            "  Created wheel for yahoofinancials: filename=yahoofinancials-1.6-py3-none-any.whl size=15190 sha256=75b3e84d183b8d039c63e8c4ddb6fd570db2f3ed4b9bd6bbc61c8653ddd1834c\n",
            "  Stored in directory: /root/.cache/pip/wheels/4b/63/46/e7110bfee88685fe69e338d1b14d1748921862aa57b6705b60\n",
            "Successfully built yahoofinancials\n",
            "Installing collected packages: yahoofinancials\n",
            "Successfully installed yahoofinancials-1.6\n"
          ],
          "name": "stdout"
        }
      ]
    },
    {
      "cell_type": "code",
      "metadata": {
        "id": "yh7clrr7KSuW"
      },
      "source": [
        "intel=yf.Ticker('IPL.NS')"
      ],
      "execution_count": 21,
      "outputs": []
    },
    {
      "cell_type": "code",
      "metadata": {
        "id": "hMCZm8HKKdX1"
      },
      "source": [
        ""
      ],
      "execution_count": 21,
      "outputs": []
    },
    {
      "cell_type": "code",
      "metadata": {
        "colab": {
          "base_uri": "https://localhost:8080/",
          "height": 203
        },
        "id": "gezM7GvAKT8q",
        "outputId": "ef6eeaf7-6712-4427-e2d6-81dc9e009985"
      },
      "source": [
        "import numpy as np \n",
        "import pandas as pd \n",
        "import matplotlib.pyplot as plt\n",
        "df=intel.history(period=\"max\")\n",
        "df=df.reset_index()\n",
        "df.head()"
      ],
      "execution_count": 22,
      "outputs": [
        {
          "output_type": "execute_result",
          "data": {
            "text/html": [
              "<div>\n",
              "<style scoped>\n",
              "    .dataframe tbody tr th:only-of-type {\n",
              "        vertical-align: middle;\n",
              "    }\n",
              "\n",
              "    .dataframe tbody tr th {\n",
              "        vertical-align: top;\n",
              "    }\n",
              "\n",
              "    .dataframe thead th {\n",
              "        text-align: right;\n",
              "    }\n",
              "</style>\n",
              "<table border=\"1\" class=\"dataframe\">\n",
              "  <thead>\n",
              "    <tr style=\"text-align: right;\">\n",
              "      <th></th>\n",
              "      <th>Date</th>\n",
              "      <th>Open</th>\n",
              "      <th>High</th>\n",
              "      <th>Low</th>\n",
              "      <th>Close</th>\n",
              "      <th>Volume</th>\n",
              "      <th>Dividends</th>\n",
              "      <th>Stock Splits</th>\n",
              "    </tr>\n",
              "  </thead>\n",
              "  <tbody>\n",
              "    <tr>\n",
              "      <th>0</th>\n",
              "      <td>2021-07-05</td>\n",
              "      <td>350.0</td>\n",
              "      <td>368.000000</td>\n",
              "      <td>340.049988</td>\n",
              "      <td>343.149994</td>\n",
              "      <td>25600715</td>\n",
              "      <td>0</td>\n",
              "      <td>0</td>\n",
              "    </tr>\n",
              "    <tr>\n",
              "      <th>1</th>\n",
              "      <td>2021-07-06</td>\n",
              "      <td>343.0</td>\n",
              "      <td>350.450012</td>\n",
              "      <td>340.000000</td>\n",
              "      <td>341.450012</td>\n",
              "      <td>2516321</td>\n",
              "      <td>0</td>\n",
              "      <td>0</td>\n",
              "    </tr>\n",
              "    <tr>\n",
              "      <th>2</th>\n",
              "      <td>2021-07-07</td>\n",
              "      <td>342.0</td>\n",
              "      <td>349.299988</td>\n",
              "      <td>333.000000</td>\n",
              "      <td>335.350006</td>\n",
              "      <td>1848855</td>\n",
              "      <td>0</td>\n",
              "      <td>0</td>\n",
              "    </tr>\n",
              "    <tr>\n",
              "      <th>3</th>\n",
              "      <td>2021-07-08</td>\n",
              "      <td>338.0</td>\n",
              "      <td>339.549988</td>\n",
              "      <td>330.049988</td>\n",
              "      <td>333.500000</td>\n",
              "      <td>1001300</td>\n",
              "      <td>0</td>\n",
              "      <td>0</td>\n",
              "    </tr>\n",
              "    <tr>\n",
              "      <th>4</th>\n",
              "      <td>2021-07-09</td>\n",
              "      <td>333.0</td>\n",
              "      <td>346.799988</td>\n",
              "      <td>330.100006</td>\n",
              "      <td>344.350006</td>\n",
              "      <td>2920525</td>\n",
              "      <td>0</td>\n",
              "      <td>0</td>\n",
              "    </tr>\n",
              "  </tbody>\n",
              "</table>\n",
              "</div>"
            ],
            "text/plain": [
              "        Date   Open        High  ...    Volume  Dividends  Stock Splits\n",
              "0 2021-07-05  350.0  368.000000  ...  25600715          0             0\n",
              "1 2021-07-06  343.0  350.450012  ...   2516321          0             0\n",
              "2 2021-07-07  342.0  349.299988  ...   1848855          0             0\n",
              "3 2021-07-08  338.0  339.549988  ...   1001300          0             0\n",
              "4 2021-07-09  333.0  346.799988  ...   2920525          0             0\n",
              "\n",
              "[5 rows x 8 columns]"
            ]
          },
          "metadata": {
            "tags": []
          },
          "execution_count": 22
        }
      ]
    },
    {
      "cell_type": "code",
      "metadata": {
        "colab": {
          "base_uri": "https://localhost:8080/",
          "height": 203
        },
        "id": "6S5lKFLYKVAS",
        "outputId": "2e81aec5-4eb6-4d37-ec6f-c9e9476ac399"
      },
      "source": [
        "# Select Date and Price\n",
        "df = df[[\"Date\",\"Close\"]] \n",
        "# Rename the features: These names are required for the model fitting\n",
        "df = df.rename(columns = {\"Date\":\"ds\",\"Close\":\"y\"}) \n",
        "df.head()"
      ],
      "execution_count": 23,
      "outputs": [
        {
          "output_type": "execute_result",
          "data": {
            "text/html": [
              "<div>\n",
              "<style scoped>\n",
              "    .dataframe tbody tr th:only-of-type {\n",
              "        vertical-align: middle;\n",
              "    }\n",
              "\n",
              "    .dataframe tbody tr th {\n",
              "        vertical-align: top;\n",
              "    }\n",
              "\n",
              "    .dataframe thead th {\n",
              "        text-align: right;\n",
              "    }\n",
              "</style>\n",
              "<table border=\"1\" class=\"dataframe\">\n",
              "  <thead>\n",
              "    <tr style=\"text-align: right;\">\n",
              "      <th></th>\n",
              "      <th>ds</th>\n",
              "      <th>y</th>\n",
              "    </tr>\n",
              "  </thead>\n",
              "  <tbody>\n",
              "    <tr>\n",
              "      <th>0</th>\n",
              "      <td>2021-07-05</td>\n",
              "      <td>343.149994</td>\n",
              "    </tr>\n",
              "    <tr>\n",
              "      <th>1</th>\n",
              "      <td>2021-07-06</td>\n",
              "      <td>341.450012</td>\n",
              "    </tr>\n",
              "    <tr>\n",
              "      <th>2</th>\n",
              "      <td>2021-07-07</td>\n",
              "      <td>335.350006</td>\n",
              "    </tr>\n",
              "    <tr>\n",
              "      <th>3</th>\n",
              "      <td>2021-07-08</td>\n",
              "      <td>333.500000</td>\n",
              "    </tr>\n",
              "    <tr>\n",
              "      <th>4</th>\n",
              "      <td>2021-07-09</td>\n",
              "      <td>344.350006</td>\n",
              "    </tr>\n",
              "  </tbody>\n",
              "</table>\n",
              "</div>"
            ],
            "text/plain": [
              "          ds           y\n",
              "0 2021-07-05  343.149994\n",
              "1 2021-07-06  341.450012\n",
              "2 2021-07-07  335.350006\n",
              "3 2021-07-08  333.500000\n",
              "4 2021-07-09  344.350006"
            ]
          },
          "metadata": {
            "tags": []
          },
          "execution_count": 23
        }
      ]
    },
    {
      "cell_type": "code",
      "metadata": {
        "colab": {
          "base_uri": "https://localhost:8080/"
        },
        "id": "574-Nbo7KWXn",
        "outputId": "94e226d5-b3fd-4198-9b28-bfbfa3361826"
      },
      "source": [
        "from fbprophet import Prophet\n",
        "# The Prophet class (model)\n",
        "fbp = Prophet(daily_seasonality = True) \n",
        " # Fit the model \n",
        "fbp.fit(df)\n"
      ],
      "execution_count": 24,
      "outputs": [
        {
          "output_type": "stream",
          "text": [
            "INFO:fbprophet:Disabling yearly seasonality. Run prophet with yearly_seasonality=True to override this.\n",
            "INFO:fbprophet:n_changepoints greater than number of observations. Using 18.\n"
          ],
          "name": "stderr"
        },
        {
          "output_type": "execute_result",
          "data": {
            "text/plain": [
              "<fbprophet.forecaster.Prophet at 0x7ff6821d2290>"
            ]
          },
          "metadata": {
            "tags": []
          },
          "execution_count": 24
        }
      ]
    },
    {
      "cell_type": "code",
      "metadata": {
        "id": "PxbzTJaNLKuK"
      },
      "source": [
        "# We need to specify the number of days in future\n",
        "# We'll be predicting the full 2021 stock prices\n",
        "fut = fbp.make_future_dataframe(periods=1) \n",
        "forecast = fbp.predict(fut)"
      ],
      "execution_count": 25,
      "outputs": []
    },
    {
      "cell_type": "code",
      "metadata": {
        "colab": {
          "base_uri": "https://localhost:8080/",
          "height": 203
        },
        "id": "g4DzKfnFLN7g",
        "outputId": "0bca7499-1718-4b83-ba9a-ef1e70bdc93f"
      },
      "source": [
        "df.tail()"
      ],
      "execution_count": 26,
      "outputs": [
        {
          "output_type": "execute_result",
          "data": {
            "text/html": [
              "<div>\n",
              "<style scoped>\n",
              "    .dataframe tbody tr th:only-of-type {\n",
              "        vertical-align: middle;\n",
              "    }\n",
              "\n",
              "    .dataframe tbody tr th {\n",
              "        vertical-align: top;\n",
              "    }\n",
              "\n",
              "    .dataframe thead th {\n",
              "        text-align: right;\n",
              "    }\n",
              "</style>\n",
              "<table border=\"1\" class=\"dataframe\">\n",
              "  <thead>\n",
              "    <tr style=\"text-align: right;\">\n",
              "      <th></th>\n",
              "      <th>ds</th>\n",
              "      <th>y</th>\n",
              "    </tr>\n",
              "  </thead>\n",
              "  <tbody>\n",
              "    <tr>\n",
              "      <th>19</th>\n",
              "      <td>2021-08-02</td>\n",
              "      <td>335.799988</td>\n",
              "    </tr>\n",
              "    <tr>\n",
              "      <th>20</th>\n",
              "      <td>2021-08-03</td>\n",
              "      <td>333.399994</td>\n",
              "    </tr>\n",
              "    <tr>\n",
              "      <th>21</th>\n",
              "      <td>2021-08-04</td>\n",
              "      <td>332.049988</td>\n",
              "    </tr>\n",
              "    <tr>\n",
              "      <th>22</th>\n",
              "      <td>2021-08-05</td>\n",
              "      <td>327.549988</td>\n",
              "    </tr>\n",
              "    <tr>\n",
              "      <th>23</th>\n",
              "      <td>2021-08-06</td>\n",
              "      <td>327.250000</td>\n",
              "    </tr>\n",
              "  </tbody>\n",
              "</table>\n",
              "</div>"
            ],
            "text/plain": [
              "           ds           y\n",
              "19 2021-08-02  335.799988\n",
              "20 2021-08-03  333.399994\n",
              "21 2021-08-04  332.049988\n",
              "22 2021-08-05  327.549988\n",
              "23 2021-08-06  327.250000"
            ]
          },
          "metadata": {
            "tags": []
          },
          "execution_count": 26
        }
      ]
    },
    {
      "cell_type": "code",
      "metadata": {
        "colab": {
          "base_uri": "https://localhost:8080/",
          "height": 307
        },
        "id": "lZZUrSnNKmbh",
        "outputId": "81c8c9f4-840e-41d7-b09a-73bb708ff931"
      },
      "source": [
        "forecast.tail()"
      ],
      "execution_count": 27,
      "outputs": [
        {
          "output_type": "execute_result",
          "data": {
            "text/html": [
              "<div>\n",
              "<style scoped>\n",
              "    .dataframe tbody tr th:only-of-type {\n",
              "        vertical-align: middle;\n",
              "    }\n",
              "\n",
              "    .dataframe tbody tr th {\n",
              "        vertical-align: top;\n",
              "    }\n",
              "\n",
              "    .dataframe thead th {\n",
              "        text-align: right;\n",
              "    }\n",
              "</style>\n",
              "<table border=\"1\" class=\"dataframe\">\n",
              "  <thead>\n",
              "    <tr style=\"text-align: right;\">\n",
              "      <th></th>\n",
              "      <th>ds</th>\n",
              "      <th>trend</th>\n",
              "      <th>yhat_lower</th>\n",
              "      <th>yhat_upper</th>\n",
              "      <th>trend_lower</th>\n",
              "      <th>trend_upper</th>\n",
              "      <th>additive_terms</th>\n",
              "      <th>additive_terms_lower</th>\n",
              "      <th>additive_terms_upper</th>\n",
              "      <th>daily</th>\n",
              "      <th>daily_lower</th>\n",
              "      <th>daily_upper</th>\n",
              "      <th>weekly</th>\n",
              "      <th>weekly_lower</th>\n",
              "      <th>weekly_upper</th>\n",
              "      <th>multiplicative_terms</th>\n",
              "      <th>multiplicative_terms_lower</th>\n",
              "      <th>multiplicative_terms_upper</th>\n",
              "      <th>yhat</th>\n",
              "    </tr>\n",
              "  </thead>\n",
              "  <tbody>\n",
              "    <tr>\n",
              "      <th>20</th>\n",
              "      <td>2021-08-03</td>\n",
              "      <td>12.505017</td>\n",
              "      <td>327.423673</td>\n",
              "      <td>335.712501</td>\n",
              "      <td>12.505017</td>\n",
              "      <td>12.505017</td>\n",
              "      <td>319.022163</td>\n",
              "      <td>319.022163</td>\n",
              "      <td>319.022163</td>\n",
              "      <td>304.254734</td>\n",
              "      <td>304.254734</td>\n",
              "      <td>304.254734</td>\n",
              "      <td>14.767429</td>\n",
              "      <td>14.767429</td>\n",
              "      <td>14.767429</td>\n",
              "      <td>0.0</td>\n",
              "      <td>0.0</td>\n",
              "      <td>0.0</td>\n",
              "      <td>331.527180</td>\n",
              "    </tr>\n",
              "    <tr>\n",
              "      <th>21</th>\n",
              "      <td>2021-08-04</td>\n",
              "      <td>11.501981</td>\n",
              "      <td>324.623755</td>\n",
              "      <td>332.834273</td>\n",
              "      <td>11.501981</td>\n",
              "      <td>11.501981</td>\n",
              "      <td>317.160243</td>\n",
              "      <td>317.160243</td>\n",
              "      <td>317.160243</td>\n",
              "      <td>304.254734</td>\n",
              "      <td>304.254734</td>\n",
              "      <td>304.254734</td>\n",
              "      <td>12.905510</td>\n",
              "      <td>12.905510</td>\n",
              "      <td>12.905510</td>\n",
              "      <td>0.0</td>\n",
              "      <td>0.0</td>\n",
              "      <td>0.0</td>\n",
              "      <td>328.662225</td>\n",
              "    </tr>\n",
              "    <tr>\n",
              "      <th>22</th>\n",
              "      <td>2021-08-05</td>\n",
              "      <td>10.498945</td>\n",
              "      <td>325.287909</td>\n",
              "      <td>333.644773</td>\n",
              "      <td>10.498945</td>\n",
              "      <td>10.498945</td>\n",
              "      <td>318.815379</td>\n",
              "      <td>318.815379</td>\n",
              "      <td>318.815379</td>\n",
              "      <td>304.254734</td>\n",
              "      <td>304.254734</td>\n",
              "      <td>304.254734</td>\n",
              "      <td>14.560645</td>\n",
              "      <td>14.560645</td>\n",
              "      <td>14.560645</td>\n",
              "      <td>0.0</td>\n",
              "      <td>0.0</td>\n",
              "      <td>0.0</td>\n",
              "      <td>329.314324</td>\n",
              "    </tr>\n",
              "    <tr>\n",
              "      <th>23</th>\n",
              "      <td>2021-08-06</td>\n",
              "      <td>9.495909</td>\n",
              "      <td>326.456112</td>\n",
              "      <td>334.686950</td>\n",
              "      <td>9.495909</td>\n",
              "      <td>9.495909</td>\n",
              "      <td>321.054964</td>\n",
              "      <td>321.054964</td>\n",
              "      <td>321.054964</td>\n",
              "      <td>304.254734</td>\n",
              "      <td>304.254734</td>\n",
              "      <td>304.254734</td>\n",
              "      <td>16.800230</td>\n",
              "      <td>16.800230</td>\n",
              "      <td>16.800230</td>\n",
              "      <td>0.0</td>\n",
              "      <td>0.0</td>\n",
              "      <td>0.0</td>\n",
              "      <td>330.550873</td>\n",
              "    </tr>\n",
              "    <tr>\n",
              "      <th>24</th>\n",
              "      <td>2021-08-07</td>\n",
              "      <td>8.492873</td>\n",
              "      <td>270.527864</td>\n",
              "      <td>279.004295</td>\n",
              "      <td>8.464401</td>\n",
              "      <td>8.521512</td>\n",
              "      <td>266.222830</td>\n",
              "      <td>266.222830</td>\n",
              "      <td>266.222830</td>\n",
              "      <td>304.254734</td>\n",
              "      <td>304.254734</td>\n",
              "      <td>304.254734</td>\n",
              "      <td>-38.031903</td>\n",
              "      <td>-38.031903</td>\n",
              "      <td>-38.031903</td>\n",
              "      <td>0.0</td>\n",
              "      <td>0.0</td>\n",
              "      <td>0.0</td>\n",
              "      <td>274.715703</td>\n",
              "    </tr>\n",
              "  </tbody>\n",
              "</table>\n",
              "</div>"
            ],
            "text/plain": [
              "           ds      trend  ...  multiplicative_terms_upper        yhat\n",
              "20 2021-08-03  12.505017  ...                         0.0  331.527180\n",
              "21 2021-08-04  11.501981  ...                         0.0  328.662225\n",
              "22 2021-08-05  10.498945  ...                         0.0  329.314324\n",
              "23 2021-08-06   9.495909  ...                         0.0  330.550873\n",
              "24 2021-08-07   8.492873  ...                         0.0  274.715703\n",
              "\n",
              "[5 rows x 19 columns]"
            ]
          },
          "metadata": {
            "tags": []
          },
          "execution_count": 27
        }
      ]
    },
    {
      "cell_type": "code",
      "metadata": {
        "id": "_cE_fTRQK2hN"
      },
      "source": [
        ""
      ],
      "execution_count": 27,
      "outputs": []
    }
  ]
}